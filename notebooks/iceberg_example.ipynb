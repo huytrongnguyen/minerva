{
 "cells": [
  {
   "cell_type": "code",
   "execution_count": 1,
   "metadata": {},
   "outputs": [
    {
     "name": "stderr",
     "output_type": "stream",
     "text": [
      "25/08/19 04:20:48 WARN SparkSession: Using an existing Spark session; only runtime SQL configurations will take effect.\n"
     ]
    },
    {
     "name": "stdout",
     "output_type": "stream",
     "text": [
      "+---------+-------+-------------+-----------+------------------+\n",
      "|vendor_id|trip_id|trip_distance|fare_amount|store_and_fwd_flag|\n",
      "+---------+-------+-------------+-----------+------------------+\n",
      "|        1|1000371|          1.8|      15.32|                 N|\n",
      "|        1|1000374|          8.4|      42.13|                 Y|\n",
      "|        2|1000372|          2.5|      22.15|                 N|\n",
      "|        2|1000373|          0.9|       9.01|                 N|\n",
      "+---------+-------+-------------+-----------+------------------+\n",
      "\n"
     ]
    }
   ],
   "source": [
    "# Import required libraries\n",
    "from pyspark.sql import SparkSession\n",
    "\n",
    "# Configure Spark session\n",
    "spark = SparkSession.builder \\\n",
    "    .appName(\"IcebergTableCreation\") \\\n",
    "    .config(\"spark.sql.catalog.demo\", \"org.apache.iceberg.spark.SparkCatalog\") \\\n",
    "    .config(\"spark.sql.catalog.demo.type\", \"rest\") \\\n",
    "    .config(\"spark.sql.catalog.demo.uri\", \"http://iceberg-rest:8181\") \\\n",
    "    .config(\"spark.sql.catalog.demo.io-impl\", \"org.apache.iceberg.aws.s3.S3FileIO\") \\\n",
    "    .config(\"spark.sql.catalog.demo.warehouse\", \"s3://warehouse/\") \\\n",
    "    .config(\"spark.sql.catalog.demo.s3.endpoint\", \"http://minio:9000\") \\\n",
    "    .config(\"spark.sql.extensions\", \"org.apache.iceberg.spark.extensions.IcebergSparkSessionExtensions\") \\\n",
    "    .config(\"spark.hadoop.fs.s3a.access.key\", \"admin\") \\\n",
    "    .config(\"spark.hadoop.fs.s3a.secret.key\", \"password\") \\\n",
    "    .config(\"spark.hadoop.fs.s3a.endpoint\", \"http://minio:9000\") \\\n",
    "    .getOrCreate()\n",
    "\n",
    "# Create a database\n",
    "spark.sql(\"CREATE DATABASE IF NOT EXISTS demo.nyc\")\n",
    "\n",
    "# Create an Iceberg table\n",
    "spark.sql(\"\"\"\n",
    "CREATE TABLE demo.nyc.taxis (\n",
    "    vendor_id BIGINT,\n",
    "    trip_id BIGINT,\n",
    "    trip_distance FLOAT,\n",
    "    fare_amount DOUBLE,\n",
    "    store_and_fwd_flag STRING\n",
    ")\n",
    "USING iceberg\n",
    "PARTITIONED BY (vendor_id)\n",
    "LOCATION 's3://warehouse/nyc/taxis'\n",
    "\"\"\")\n",
    "\n",
    "# Insert sample data\n",
    "spark.sql(\"\"\"\n",
    "INSERT INTO demo.nyc.taxis\n",
    "VALUES \n",
    "    (1, 1000371, 1.8, 15.32, 'N'),\n",
    "    (2, 1000372, 2.5, 22.15, 'N'),\n",
    "    (2, 1000373, 0.9, 9.01, 'N'),\n",
    "    (1, 1000374, 8.4, 42.13, 'Y')\n",
    "\"\"\")\n",
    "\n",
    "# Verify the data\n",
    "spark.sql(\"SELECT * FROM demo.nyc.taxis\").show()\n",
    "\n",
    "# Stop the Spark session\n",
    "spark.stop()"
   ]
  },
  {
   "cell_type": "code",
   "execution_count": null,
   "metadata": {},
   "outputs": [],
   "source": []
  }
 ],
 "metadata": {
  "kernelspec": {
   "display_name": "Python 3 (ipykernel)",
   "language": "python",
   "name": "python3"
  },
  "language_info": {
   "codemirror_mode": {
    "name": "ipython",
    "version": 3
   },
   "file_extension": ".py",
   "mimetype": "text/x-python",
   "name": "python",
   "nbconvert_exporter": "python",
   "pygments_lexer": "ipython3",
   "version": "3.10.16"
  }
 },
 "nbformat": 4,
 "nbformat_minor": 4
}
